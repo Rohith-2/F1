{
 "cells": [
  {
   "cell_type": "code",
   "execution_count": 1,
   "id": "cf0497dd",
   "metadata": {},
   "outputs": [],
   "source": [
    "import fastf1\n",
    "import pandas as pd\n",
    "import numpy as np\n",
    "from tqdm import tqdm\n",
    "from src.utils import get_lap_data\n",
    "import logging\n",
    "import warnings\n",
    "warnings.filterwarnings(\"ignore\")\n",
    "logging.getLogger('fastf1').setLevel(logging.ERROR)  # This will disable both logs and warnings\n",
    "fastf1.Cache.enable_cache('./.cache')  # replace with your cache directory\n",
    "#fastf1.Cache.offline_mode(True)"
   ]
  },
  {
   "cell_type": "code",
   "execution_count": 2,
   "id": "52a4fd2c",
   "metadata": {},
   "outputs": [],
   "source": [
    "team_driver_performance = pd.read_csv('.cache/hist_data/team_driver_performance.csv')\n",
    "Team_Mapping = {'Alfa Romeo': 1, 'AlphaTauri': 2, 'Alpine': 3, 'Aston Martin': 4, 'Ferrari': 5, 'Haas F1 Team': 1, 'Kick Sauber': 6, 'McLaren': 7, 'Mercedes': 8, 'RB': 2, 'Racing Bulls': 9, 'Red Bull Racing': 10, 'Williams': 11}\n",
    "\n",
    "prac_columns = ['DriverNumber_prac','LapTime_prac', 'Sector1Time_prac', 'Sector2Time_prac', 'Sector3Time_prac', 'SpeedI1_prac', 'SpeedI2_prac', 'TyreLife_prac','Position_prac','Driver_prac']\n",
    "old_qual_columns = ['LapTime_old_qual', 'Position_old_qual','Sector1Time_old_qual', 'Sector2Time_old_qual', 'Sector3Time_old_qual','Driver_old_qual']"
   ]
  },
  {
   "cell_type": "code",
   "execution_count": 13,
   "id": "27cc1b36",
   "metadata": {},
   "outputs": [],
   "source": [
    "session = fastf1.get_session(2023, 3, 'Q')"
   ]
  },
  {
   "cell_type": "code",
   "execution_count": null,
   "id": "28aac311",
   "metadata": {},
   "outputs": [
    {
     "data": {
      "text/plain": [
       "'Australian Grand Prix'"
      ]
     },
     "execution_count": 14,
     "metadata": {},
     "output_type": "execute_result"
    }
   ],
   "source": []
  },
  {
   "cell_type": "code",
   "execution_count": 17,
   "id": "d26e06fa",
   "metadata": {},
   "outputs": [],
   "source": [
    "def load_data(race,year):\n",
    "    no_prac = False\n",
    "    no_qual = False\n",
    "    e_name = ''\n",
    "    # Load sessions \n",
    "    try:\n",
    "        session = fastf1.get_session(year, race, 'Q')\n",
    "        e_name = session.event.EventName\n",
    "        session.load()\n",
    "        lap_qual = get_lap_data(session)\n",
    "    except Exception as e:\n",
    "        print(f\"Error loading qualifying session for {race} in {year}: {e}\")\n",
    "        lap_qual = None\n",
    "\n",
    "    try:\n",
    "        session_old_qual = fastf1.get_session(year-1,race,'Q')\n",
    "        e_name = session_old_qual.event.EventName\n",
    "        session_old_qual.load()\n",
    "        lap_old_qual = get_lap_data(session_old_qual)\n",
    "        lap_old_qual.columns = [f'{col}_old_qual' if col not in ['Team'] else col for col in lap_old_qual.columns]\n",
    "    except Exception as e:\n",
    "        print(f\"Error loading old qualifying session for {race} in {year-1}: {e}\")\n",
    "        lap_old_qual = pd.DataFrame([[-1]*len(old_qual_columns)]*20,columns=old_qual_columns)  # Empty DataFrame if old qualifying session fails\n",
    "        lap_old_qual['Driver_old_qual'] = lap_qual['Driver']\n",
    "        no_qual = True\n",
    "\n",
    "    try:\n",
    "        session_p = fastf1.get_session(year,race,'FP3')\n",
    "        session_p.load()\n",
    "        e_name = session_p.event.EventName\n",
    "        lap_prac = get_lap_data(session_p)\n",
    "        lap_prac.columns = [f'{col}_prac' if col not in ['Team'] else col for col in lap_prac.columns]\n",
    "    except Exception as e:\n",
    "        print(f\"Error loading practice session for {race} in {year}: {e}\")\n",
    "        lap_prac = pd.DataFrame([[-1]*len(prac_columns)]*20,columns=prac_columns)  # Empty DataFrame if practice session fails\n",
    "        lap_prac['DriverNumber_prac'] = lap_qual['DriverNumber']\n",
    "        lap_prac['Driver_prac'] = lap_qual['Driver']\n",
    "        no_prac = True\n",
    "\n",
    "    if no_prac and no_qual:\n",
    "        return None, None, None\n",
    "    else:\n",
    "        lap_old_qual_clean = lap_old_qual[old_qual_columns]\n",
    "        lap_prac_clean = lap_prac[prac_columns]\n",
    "        final_lap = (\n",
    "            lap_prac_clean\n",
    "            .merge(lap_old_qual_clean, left_on='Driver_prac', right_on='Driver_old_qual')\n",
    "            .merge(\n",
    "                team_driver_performance[team_driver_performance['Country'] == e_name],\n",
    "                left_on='Driver_prac', right_on='Name'\n",
    "            )\n",
    "            .drop(columns=['Driver_prac', 'Driver_old_qual','Name','Country'])\n",
    "            .set_index('DriverNumber_prac')\n",
    "        )\n",
    "        final_lap['race_event'] = [race]*len(final_lap)\n",
    "        \n",
    "        if lap_qual is not None:\n",
    "            y = lap_qual[['LapTime', 'Position', 'DriverNumber']].set_index('DriverNumber').loc[final_lap.index]\n",
    "            y_laptime = y.pop('LapTime').to_list()\n",
    "            y_position = y.pop('Position').to_list()\n",
    "        else:\n",
    "            y_laptime = [-1]*len(final_lap)\n",
    "            y_position = [-1]*len(final_lap)\n",
    "\n",
    "\n",
    "        return final_lap.values, y_laptime, y_position"
   ]
  },
  {
   "cell_type": "code",
   "execution_count": null,
   "id": "9a6be222",
   "metadata": {},
   "outputs": [
    {
     "name": "stderr",
     "output_type": "stream",
     "text": [
      "  0%|                                                                                                             | 0/64 [00:00<?, ?it/s]"
     ]
    },
    {
     "name": "stderr",
     "output_type": "stream",
     "text": [
      "  5%|████▋                                                                                                | 3/64 [00:26<08:47,  8.64s/it]"
     ]
    },
    {
     "name": "stdout",
     "output_type": "stream",
     "text": [
      "Error loading practice session for 4 in 2023: Session type 'FP3' does not exist for this event\n"
     ]
    },
    {
     "name": "stderr",
     "output_type": "stream",
     "text": [
      " 14%|██████████████▏                                                                                      | 9/64 [00:59<05:10,  5.65s/it]"
     ]
    },
    {
     "name": "stdout",
     "output_type": "stream",
     "text": [
      "Error loading practice session for 9 in 2023: Session type 'FP3' does not exist for this event\n"
     ]
    },
    {
     "name": "stderr",
     "output_type": "stream",
     "text": [
      " 19%|██████████████████▊                                                                                 | 12/64 [01:16<04:34,  5.27s/it]"
     ]
    },
    {
     "name": "stdout",
     "output_type": "stream",
     "text": [
      "Error loading practice session for 12 in 2023: Session type 'FP3' does not exist for this event\n"
     ]
    },
    {
     "name": "stderr",
     "output_type": "stream",
     "text": [
      " 27%|██████████████████████████▌                                                                         | 17/64 [01:47<04:20,  5.54s/it]"
     ]
    },
    {
     "name": "stdout",
     "output_type": "stream",
     "text": [
      "Error loading practice session for 17 in 2023: Session type 'FP3' does not exist for this event\n"
     ]
    },
    {
     "name": "stderr",
     "output_type": "stream",
     "text": [
      " 28%|████████████████████████████▏                                                                       | 18/64 [01:49<03:35,  4.68s/it]"
     ]
    },
    {
     "name": "stdout",
     "output_type": "stream",
     "text": [
      "Error loading practice session for 18 in 2023: Session type 'FP3' does not exist for this event\n"
     ]
    },
    {
     "name": "stderr",
     "output_type": "stream",
     "text": [
      " 30%|█████████████████████████████▋                                                                      | 19/64 [01:57<04:16,  5.70s/it]"
     ]
    },
    {
     "name": "stdout",
     "output_type": "stream",
     "text": [
      "Error loading practice session for 20 in 2023: Session type 'FP3' does not exist for this event\n"
     ]
    },
    {
     "name": "stderr",
     "output_type": "stream",
     "text": [
      " 33%|████████████████████████████████▊                                                                   | 21/64 [02:09<04:27,  6.22s/it]"
     ]
    },
    {
     "name": "stdout",
     "output_type": "stream",
     "text": [
      "Error loading qualifying session for 23 in 2023: Invalid round: 23\n",
      "Error loading old qualifying session for 23 in 2022: Invalid round: 23\n",
      "Error for 23 2023: 'NoneType' object is not subscriptable\n",
      "Error loading qualifying session for 24 in 2023: Invalid round: 24\n",
      "Error loading old qualifying session for 24 in 2022: Invalid round: 24\n",
      "Error for 24 2023: 'NoneType' object is not subscriptable\n"
     ]
    },
    {
     "name": "stderr",
     "output_type": "stream",
     "text": [
      " 45%|█████████████████████████████████████████████▎                                                      | 29/64 [02:42<03:02,  5.22s/it]"
     ]
    },
    {
     "name": "stdout",
     "output_type": "stream",
     "text": [
      "Error loading practice session for 5 in 2024: Session type 'FP3' does not exist for this event\n"
     ]
    },
    {
     "name": "stderr",
     "output_type": "stream",
     "text": [
      " 47%|██████████████████████████████████████████████▉                                                     | 30/64 [02:44<02:25,  4.29s/it]"
     ]
    },
    {
     "name": "stdout",
     "output_type": "stream",
     "text": [
      "Error loading practice session for 6 in 2024: Session type 'FP3' does not exist for this event\n"
     ]
    },
    {
     "name": "stderr",
     "output_type": "stream",
     "text": [
      " 55%|██████████████████████████████████████████████████████▋                                             | 35/64 [03:16<02:37,  5.42s/it]"
     ]
    },
    {
     "name": "stdout",
     "output_type": "stream",
     "text": [
      "Error loading practice session for 11 in 2024: Session type 'FP3' does not exist for this event\n"
     ]
    },
    {
     "name": "stderr",
     "output_type": "stream",
     "text": [
      " 67%|███████████████████████████████████████████████████████████████████▏                                | 43/64 [04:01<01:36,  4.59s/it]"
     ]
    },
    {
     "name": "stdout",
     "output_type": "stream",
     "text": [
      "Error loading practice session for 19 in 2024: Session type 'FP3' does not exist for this event\n"
     ]
    },
    {
     "name": "stderr",
     "output_type": "stream",
     "text": [
      " 69%|████████████████████████████████████████████████████████████████████▊                               | 44/64 [04:09<01:53,  5.65s/it]"
     ]
    },
    {
     "name": "stdout",
     "output_type": "stream",
     "text": [
      "Error loading practice session for 21 in 2024: Session type 'FP3' does not exist for this event\n"
     ]
    },
    {
     "name": "stderr",
     "output_type": "stream",
     "text": [
      " 72%|███████████████████████████████████████████████████████████████████████▉                            | 46/64 [04:17<01:26,  4.82s/it]"
     ]
    },
    {
     "name": "stdout",
     "output_type": "stream",
     "text": [
      "Error loading old qualifying session for 23 in 2023: Invalid round: 23\n",
      "Error loading practice session for 23 in 2024: Session type 'FP3' does not exist for this event\n"
     ]
    },
    {
     "name": "stderr",
     "output_type": "stream",
     "text": [
      " 73%|█████████████████████████████████████████████████████████████████████████▍                          | 47/64 [04:19<01:11,  4.21s/it]"
     ]
    },
    {
     "name": "stdout",
     "output_type": "stream",
     "text": [
      "Error loading old qualifying session for 24 in 2023: Invalid round: 24\n"
     ]
    },
    {
     "name": "stderr",
     "output_type": "stream",
     "text": [
      " 77%|████████████████████████████████████████████████████████████████████████████▌                       | 49/64 [04:31<01:16,  5.11s/it]"
     ]
    },
    {
     "name": "stdout",
     "output_type": "stream",
     "text": [
      "Error loading practice session for 2 in 2025: Session type 'FP3' does not exist for this event\n"
     ]
    },
    {
     "name": "stderr",
     "output_type": "stream",
     "text": [
      " 83%|██████████████████████████████████████████████████████████████████████████████████▊                 | 53/64 [04:51<00:59,  5.43s/it]"
     ]
    },
    {
     "name": "stdout",
     "output_type": "stream",
     "text": [
      "Error loading practice session for 6 in 2025: Session type 'FP3' does not exist for this event\n"
     ]
    },
    {
     "name": "stderr",
     "output_type": "stream",
     "text": [
      " 86%|█████████████████████████████████████████████████████████████████████████████████████▉              | 55/64 [05:02<00:52,  5.85s/it]"
     ]
    },
    {
     "name": "stdout",
     "output_type": "stream",
     "text": [
      "Error for 7 2025: \"['22'] not in index\"\n"
     ]
    },
    {
     "name": "stderr",
     "output_type": "stream",
     "text": [
      " 95%|███████████████████████████████████████████████████████████████████████████████████████████████▎    | 61/64 [05:33<00:15,  5.17s/it]"
     ]
    },
    {
     "name": "stdout",
     "output_type": "stream",
     "text": [
      "Error loading practice session for 13 in 2025: Session type 'FP3' does not exist for this event\n"
     ]
    },
    {
     "name": "stderr",
     "output_type": "stream",
     "text": [
      " 98%|██████████████████████████████████████████████████████████████████████████████████████████████████▍ | 63/64 [05:45<00:05,  5.52s/it]"
     ]
    },
    {
     "name": "stdout",
     "output_type": "stream",
     "text": [
      "Error for 15 2025: \"['18'] not in index\"\n"
     ]
    },
    {
     "name": "stderr",
     "output_type": "stream",
     "text": [
      "100%|████████████████████████████████████████████████████████████████████████████████████████████████████| 64/64 [05:47<00:00,  5.43s/it]\n"
     ]
    },
    {
     "ename": "ValueError",
     "evalue": "all the input arrays must have same number of dimensions, but the array at index 0 has 1 dimension(s) and the array at index 1 has 2 dimension(s)",
     "output_type": "error",
     "traceback": [
      "\u001b[31m---------------------------------------------------------------------------\u001b[39m",
      "\u001b[31mValueError\u001b[39m                                Traceback (most recent call last)",
      "\u001b[36mCell\u001b[39m\u001b[36m \u001b[39m\u001b[32mIn[19]\u001b[39m\u001b[32m, line 51\u001b[39m\n\u001b[32m     49\u001b[39m         X_train = combined_X\n\u001b[32m     50\u001b[39m     \u001b[38;5;28;01melse\u001b[39;00m:\n\u001b[32m---> \u001b[39m\u001b[32m51\u001b[39m         X_train = \u001b[43mnp\u001b[49m\u001b[43m.\u001b[49m\u001b[43mconcatenate\u001b[49m\u001b[43m(\u001b[49m\u001b[43m[\u001b[49m\u001b[43mX_train\u001b[49m\u001b[43m,\u001b[49m\u001b[43m \u001b[49m\u001b[43mcombined_X\u001b[49m\u001b[43m]\u001b[49m\u001b[43m,\u001b[49m\u001b[43m \u001b[49m\u001b[43maxis\u001b[49m\u001b[43m=\u001b[49m\u001b[32;43m0\u001b[39;49m\u001b[43m)\u001b[49m\n\u001b[32m     53\u001b[39m \u001b[38;5;66;03m# y_train_lap / y_train_pos might be lists or arrays in the notebook; handle both\u001b[39;00m\n\u001b[32m     54\u001b[39m \u001b[38;5;28;01mif\u001b[39;00m \u001b[38;5;28misinstance\u001b[39m(y_train_lap, \u001b[38;5;28mlist\u001b[39m):\n",
      "\u001b[31mValueError\u001b[39m: all the input arrays must have same number of dimensions, but the array at index 0 has 1 dimension(s) and the array at index 1 has 2 dimension(s)"
     ]
    }
   ],
   "source": [
    "import os\n",
    "\n",
    "import concurrent.futures\n",
    "\n",
    "error_X = []\n",
    "X_train = []\n",
    "y_train_lap = []\n",
    "y_train_pos = []\n",
    "\n",
    "pairs = []\n",
    "for y in [2023, 2024, 2025]:\n",
    "    rounds = range(1, 17) if y == 2025 else range(1, 25)\n",
    "    for r in rounds:\n",
    "        pairs.append((r, y))\n",
    "\n",
    "acc_X = []\n",
    "acc_y1 = []\n",
    "acc_y2 = []\n",
    "\n",
    "max_workers = 2\n",
    "with concurrent.futures.ThreadPoolExecutor(max_workers=max_workers) as ex:\n",
    "    fut_to_pair = {ex.submit(load_data, r, y): (r, y) for r, y in pairs}\n",
    "    for fut in tqdm(concurrent.futures.as_completed(fut_to_pair), total=len(fut_to_pair)):\n",
    "        r, y = fut_to_pair[fut]\n",
    "        try:\n",
    "            X, y1, y2 = fut.result()\n",
    "        except Exception as e:\n",
    "            print(f\"Error for {r} {y}: {e}\")\n",
    "            error_X.append((r, y))\n",
    "            continue\n",
    "\n",
    "        # treat empty result\n",
    "        if X is not None:\n",
    "            if isinstance(X, np.ndarray) and X.size == 0:\n",
    "                error_X.append((r, y))\n",
    "                continue\n",
    "            if len(X) == 0:\n",
    "                error_X.append((r, y))\n",
    "                continue\n",
    "\n",
    "            acc_X.append(X)\n",
    "            acc_y1.extend(y1)\n",
    "            acc_y2.extend(y2)"
   ]
  },
  {
   "cell_type": "code",
   "execution_count": 25,
   "id": "e1c5039c",
   "metadata": {},
   "outputs": [],
   "source": [
    "X_train = np.concat(acc_X)\n",
    "\n",
    "# y_train_lap / y_train_pos might be lists or arrays in the notebook; handle both\n",
    "if isinstance(y_train_lap, list):\n",
    "    y_train_lap.extend(acc_y1)\n",
    "else:\n",
    "    y_train_lap = np.concatenate([y_train_lap, np.array(acc_y1)])\n",
    "\n",
    "if isinstance(y_train_pos, list):\n",
    "    y_train_pos.extend(acc_y2)\n",
    "else:\n",
    "    y_train_pos = np.concatenate([y_train_pos, np.array(acc_y2)])"
   ]
  },
  {
   "cell_type": "code",
   "execution_count": 26,
   "id": "d9af9b88",
   "metadata": {},
   "outputs": [
    {
     "data": {
      "text/plain": [
       "((775, 25), 775, 775, 4)"
      ]
     },
     "execution_count": 26,
     "metadata": {},
     "output_type": "execute_result"
    }
   ],
   "source": [
    "X_train.shape, len(y_train_lap), len(y_train_pos), len(error_X)"
   ]
  },
  {
   "cell_type": "code",
   "execution_count": 27,
   "id": "966d6e06",
   "metadata": {},
   "outputs": [],
   "source": [
    "#Save the training data\n",
    "np.save('.cache/hist_data/X_train.npy',X_train)\n",
    "np.save('.cache/hist_data/y_train_lap.npy',y_train_lap)\n",
    "np.save('.cache/hist_data/y_train_pos.npy',y_train_pos)"
   ]
  }
 ],
 "metadata": {
  "kernelspec": {
   "display_name": "Python 3 (ipykernel)",
   "language": "python",
   "name": "python3"
  },
  "language_info": {
   "codemirror_mode": {
    "name": "ipython",
    "version": 3
   },
   "file_extension": ".py",
   "mimetype": "text/x-python",
   "name": "python",
   "nbconvert_exporter": "python",
   "pygments_lexer": "ipython3",
   "version": "3.12.10"
  }
 },
 "nbformat": 4,
 "nbformat_minor": 5
}
