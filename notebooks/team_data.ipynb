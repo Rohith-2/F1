{
 "cells": [
  {
   "cell_type": "code",
   "execution_count": 1,
   "id": "15c6f6be",
   "metadata": {},
   "outputs": [],
   "source": [
    "import os\n",
    "import time\n",
    "import fastf1\n",
    "import logging\n",
    "import warnings\n",
    "import pandas as pd\n",
    "from tqdm import tqdm\n",
    "warnings.filterwarnings(\"ignore\")\n",
    "\n",
    "from concurrent.futures import ThreadPoolExecutor, as_completed\n",
    "\n",
    "os.chdir('/Users/rohith/Documents/Projects/F1')\n",
    "fastf1.Cache.enable_cache('.cache')  # replace with your cache directory\n",
    "logging.getLogger('fastf1').setLevel(logging.ERROR)  # This will disable both logs and warnings\n",
    "fastf1.Cache.offline_mode(True)"
   ]
  },
  {
   "cell_type": "code",
   "execution_count": 13,
   "id": "860fa65d",
   "metadata": {},
   "outputs": [],
   "source": [
    "def get_lap_data(session):\n",
    "    \"\"\"\n",
    "    Get lap data for a given session.\n",
    "    Args:\n",
    "        session (fastf1.core.Session): The session object from FastF1.\n",
    "    Returns:\n",
    "        pd.DataFrame: A DataFrame containing lap data with relevant columns.\n",
    "    \"\"\"\n",
    "    lap = session.laps\n",
    "    lap_prac = lap[(lap['IsAccurate']==True) & (lap['IsPersonalBest']==True)]\n",
    "    lap_prac = lap_prac.groupby('Driver').apply(\n",
    "        lambda x: x[x['LapTime'] == x['LapTime'].min()]).sort_values('LapTime').reset_index(drop=True)[['Driver','Team']]\n",
    "    for col in lap_prac.select_dtypes(include='timedelta64[ns]').columns:\n",
    "        lap_prac[col] = lap_prac[col].dt.total_seconds()\n",
    "    lap_prac.reset_index(inplace=True)\n",
    "    lap_prac.rename(columns={'index':'Position'},inplace=True)\n",
    "    lap_prac['Position'] = lap_prac['Position'] + 1\n",
    "    lap_prac['session'] = session.name\n",
    "    lap_prac['country'] = session.event.EventName\n",
    "    lap_prac['year'] = session.event.year\n",
    "    lap_prac['Date'] = session.event.EventDate\n",
    "    \n",
    "    return lap_prac\n",
    "\n",
    "def fetch_lap_data(year, race, race_type):\n",
    "    try:\n",
    "        session = fastf1.get_session(year, race, race_type)\n",
    "        session.load()\n",
    "        time.sleep(5)  # To avoid overwhelming the server\n",
    "\n",
    "        return get_lap_data(session)\n",
    "    except Exception as e:\n",
    "        print(f\"Could not load session for year: {year} and race {race} due to {e}\")\n",
    "        return None\n"
   ]
  },
  {
   "cell_type": "code",
   "execution_count": 16,
   "id": "98c722e1",
   "metadata": {},
   "outputs": [
    {
     "name": "stdout",
     "output_type": "stream",
     "text": [
      "Could not load session for year: 2025 and race 1 due to Failed to load any schedule data.\n"
     ]
    },
    {
     "name": "stderr",
     "output_type": "stream",
     "text": [
      " 17%|███████████████████                                                                                               | 16/96 [00:39<01:35,  1.19s/it]"
     ]
    },
    {
     "name": "stdout",
     "output_type": "stream",
     "text": [
      "Could not load session for year: 2024 and race 6 due to Invalid round: 6\n"
     ]
    },
    {
     "name": "stderr",
     "output_type": "stream",
     "text": [
      " 20%|██████████████████████▌                                                                                           | 19/96 [00:39<00:46,  1.64it/s]"
     ]
    },
    {
     "name": "stdout",
     "output_type": "stream",
     "text": [
      "Could not load session for year: 2025 and race 6 due to Failed to load any schedule data.\n"
     ]
    },
    {
     "name": "stderr",
     "output_type": "stream",
     "text": [
      " 79%|██████████████████████████████████████████████████████████████████████████████████████████▎                       | 76/96 [03:11<00:55,  2.76s/it]"
     ]
    },
    {
     "name": "stdout",
     "output_type": "stream",
     "text": [
      "Could not load session for year: 2025 and race 20 due to The data you are trying to access has not been loaded yet. See `Session.load`\n"
     ]
    },
    {
     "name": "stderr",
     "output_type": "stream",
     "text": [
      " 80%|███████████████████████████████████████████████████████████████████████████████████████████▍                      | 77/96 [03:17<01:07,  3.55s/it]"
     ]
    },
    {
     "name": "stdout",
     "output_type": "stream",
     "text": [
      "Could not load session for year: 2025 and race 21 due to The data you are trying to access has not been loaded yet. See `Session.load`\n"
     ]
    },
    {
     "name": "stderr",
     "output_type": "stream",
     "text": [
      " 85%|█████████████████████████████████████████████████████████████████████████████████████████████████▍                | 82/96 [03:20<00:14,  1.01s/it]"
     ]
    },
    {
     "name": "stdout",
     "output_type": "stream",
     "text": [
      "Could not load session for year: 2022 and race 23 due to Invalid round: 23\n",
      "Could not load session for year: 2023 and race 23 due to Invalid round: 23\n",
      "Could not load session for year: 2022 and race 24 due to Invalid round: 24\n",
      "Could not load session for year: 2023 and race 24 due to Invalid round: 24\n"
     ]
    },
    {
     "name": "stderr",
     "output_type": "stream",
     "text": [
      " 94%|██████████████████████████████████████████████████████████████████████████████████████████████████████████▉       | 90/96 [03:27<00:06,  1.03s/it]"
     ]
    },
    {
     "name": "stdout",
     "output_type": "stream",
     "text": [
      "Could not load session for year: 2025 and race 22 due to The data you are trying to access has not been loaded yet. See `Session.load`\n",
      "Could not load session for year: 2025 and race 23 due to The data you are trying to access has not been loaded yet. See `Session.load`\n",
      "Could not load session for year: 2025 and race 24 due to The data you are trying to access has not been loaded yet. See `Session.load`\n"
     ]
    },
    {
     "name": "stderr",
     "output_type": "stream",
     "text": [
      "100%|██████████████████████████████████████████████████████████████████████████████████████████████████████████████████| 96/96 [03:33<00:00,  2.22s/it]"
     ]
    },
    {
     "name": "stdout",
     "output_type": "stream",
     "text": [
      "Current Drivers: ['PIA', 'RUS', 'NOR', 'VER', 'HAM', 'LEC', 'HAD', 'ANT', 'TSU', 'ALB', 'OCO', 'SAI', 'HUL', 'ALO', 'STR', 'GAS', 'BEA', 'DOO', 'BOR', 'LAW', 'COL']\n",
      "Circuits: ['Bahrain Grand Prix', 'Saudi Arabian Grand Prix', 'Chinese Grand Prix', 'Australian Grand Prix', 'Japanese Grand Prix', 'Miami Grand Prix', 'Azerbaijan Grand Prix', 'Emilia Romagna Grand Prix', 'Spanish Grand Prix', 'Monaco Grand Prix', 'Canadian Grand Prix', 'Hungarian Grand Prix', 'Austrian Grand Prix', 'British Grand Prix', 'French Grand Prix', 'Belgian Grand Prix', 'Dutch Grand Prix', 'Italian Grand Prix', 'Singapore Grand Prix', 'Qatar Grand Prix', 'United States Grand Prix', 'Mexico City Grand Prix', 'Las Vegas Grand Prix', 'São Paulo Grand Prix', 'Abu Dhabi Grand Prix']\n",
      "Team Mapping: {'Alfa Romeo': 1, 'AlphaTauri': 2, 'Alpine': 3, 'Renault': 3, 'Aston Martin': 4, 'Ferrari': 5, 'Haas F1 Team': 1, 'Kick Sauber': 6, 'McLaren': 7, 'Mercedes': 8, 'RB': 2, 'Racing Bulls': 2, 'Red Bull Racing': 9, 'Williams': 10}\n"
     ]
    },
    {
     "name": "stderr",
     "output_type": "stream",
     "text": [
      "\n"
     ]
    }
   ],
   "source": [
    "qualifying_sessions = pd.DataFrame([])\n",
    "race_type = 'Q'\n",
    "tasks = [(year, race, race_type) for race in range(1, 25) for year in [2022, 2023, 2024, 2025]]\n",
    "\n",
    "with ThreadPoolExecutor(max_workers=8) as executor:\n",
    "    futures = [executor.submit(fetch_lap_data, year, race, race_type) for year, race, race_type in tasks]\n",
    "    for future in tqdm(as_completed(futures), total=len(futures)):\n",
    "        result = future.result()\n",
    "        if result is not None:\n",
    "            qualifying_sessions = pd.concat([qualifying_sessions, result], ignore_index=True)\n",
    "\n",
    "current_drivers = qualifying_sessions[qualifying_sessions['year']==2025].Driver.unique().tolist()\n",
    "print(f\"Current Drivers: {current_drivers}\")\n",
    "circuits = qualifying_sessions['country'].unique().tolist()\n",
    "print(f\"Circuits: {circuits}\")\n",
    "team_mapping = {'Alfa Romeo': 1, 'AlphaTauri': 2, 'Alpine': 3, 'Renault':3,'Aston Martin': 4, 'Ferrari': 5, 'Haas F1 Team': 1, 'Kick Sauber': 6, 'McLaren': 7, 'Mercedes': 8, 'RB': 2, 'Racing Bulls': 2, 'Red Bull Racing': 9, 'Williams': 10}\n",
    "print(f\"Team Mapping: {team_mapping}\")\n",
    "\n",
    "driver_stats_list = []"
   ]
  },
  {
   "cell_type": "code",
   "execution_count": 30,
   "id": "bfb8a79b",
   "metadata": {},
   "outputs": [],
   "source": [
    "\n",
    "for i in current_drivers:\n",
    "\n",
    "    driver_sessions = qualifying_sessions[qualifying_sessions['Driver'] == i].sort_values('Date')\n",
    "    recent_sessions = driver_sessions[driver_sessions['year'] == 2025]\n",
    "    avg_driver_pos = driver_sessions.groupby('country')['Position'].mean().sort_values().to_dict()\n",
    "    team_name = driver_sessions['Team'].values[-1]\n",
    "    team_perf = qualifying_sessions[qualifying_sessions['Team'] == team_name].groupby('country')['Position'].mean().sort_values().to_dict()\n",
    "    \n",
    "    \n",
    "    if 'Great Britain' in avg_driver_pos.keys() and 'United Kingdom' in avg_driver_pos.keys():\n",
    "        avg_driver_pos['Great Britain'] = (avg_driver_pos['United Kingdom'] + avg_driver_pos['Great Britain'])/2\n",
    "        avg_driver_pos.pop('United Kingdom')\n",
    "    elif 'United Kingdom' in avg_driver_pos.keys() and  'Great Britain' not in avg_driver_pos.keys():\n",
    "        avg_driver_pos['Great Britain'] = avg_driver_pos['United Kingdom']\n",
    "        avg_driver_pos.pop('United Kingdom')\n",
    "    \n",
    "    for con in avg_driver_pos.keys():\n",
    "        try : \n",
    "            lp = int(recent_sessions[recent_sessions['country'] == con]['Position'].iloc[0])\n",
    "        except:\n",
    "            lp = -1\n",
    "        \n",
    "        try:\n",
    "            tf = float(team_perf[con])\n",
    "        except:\n",
    "            tf = -1\n",
    "        driver_stats_list.append({\n",
    "            'Name': i,\n",
    "            'Avg_Position_Past': int(driver_sessions['Position'].mean()),\n",
    "            'Best_Position_Past': int(driver_sessions['Position'].min()),\n",
    "            'Worst_Position_Past': int(driver_sessions['Position'].max()),\n",
    "            'Best_Position_Recent': int(recent_sessions['Position'].min()),\n",
    "            'Worst_Position_Recent': int(recent_sessions['Position'].max()),\n",
    "            'Avg_Position_Recent': int(recent_sessions['Position'].mean()),\n",
    "            'Last_Position': lp,\n",
    "            'Avg_Finish_in_this_circuit' : int(avg_driver_pos[con]),\n",
    "            'Avg_Team_Finish_in_this_circuit' : tf,\n",
    "            'Country': con,\n",
    "            'Team': team_mapping[team_name]\n",
    "        })\n",
    "\n",
    "d = pd.DataFrame(driver_stats_list)\n",
    "for i in d.columns:\n",
    "    if i not in ['Name','Country']:\n",
    "        d[i] = round(d[i]).astype(int)\n",
    "d.to_csv('.cache/hist_data/team_driver_performance.csv',index=False)\n"
   ]
  }
 ],
 "metadata": {
  "kernelspec": {
   "display_name": "Python 3 (ipykernel)",
   "language": "python",
   "name": "python3"
  },
  "language_info": {
   "codemirror_mode": {
    "name": "ipython",
    "version": 3
   },
   "file_extension": ".py",
   "mimetype": "text/x-python",
   "name": "python",
   "nbconvert_exporter": "python",
   "pygments_lexer": "ipython3",
   "version": "3.12.10"
  }
 },
 "nbformat": 4,
 "nbformat_minor": 5
}
