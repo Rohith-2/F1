{
 "cells": [
  {
   "cell_type": "code",
   "execution_count": 1,
   "id": "98c722e1",
   "metadata": {},
   "outputs": [
    {
     "name": "stderr",
     "output_type": "stream",
     "text": [
      " 75%|███████████████████████████████████████████████████████████████████████████                         | 72/96 [04:34<01:33,  3.91s/it]"
     ]
    },
    {
     "name": "stdout",
     "output_type": "stream",
     "text": [
      "Could not load session for year: 2025 and race 18 due to The data you are trying to access has not been loaded yet. See `Session.load`\n"
     ]
    },
    {
     "name": "stderr",
     "output_type": "stream",
     "text": [
      " 82%|██████████████████████████████████████████████████████████████████████████████████▎                 | 79/96 [04:52<00:43,  2.56s/it]"
     ]
    },
    {
     "name": "stdout",
     "output_type": "stream",
     "text": [
      "Could not load session for year: 2025 and race 19 due to The data you are trying to access has not been loaded yet. See `Session.load`\n"
     ]
    },
    {
     "name": "stderr",
     "output_type": "stream",
     "text": [
      " 86%|██████████████████████████████████████████████████████████████████████████████████████▍             | 83/96 [05:09<00:35,  2.72s/it]"
     ]
    },
    {
     "name": "stdout",
     "output_type": "stream",
     "text": [
      "Could not load session for year: 2025 and race 20 due to The data you are trying to access has not been loaded yet. See `Session.load`\n"
     ]
    },
    {
     "name": "stderr",
     "output_type": "stream",
     "text": [
      " 89%|████████████████████████████████████████████████████████████████████████████████████████▌           | 85/96 [05:18<00:35,  3.27s/it]"
     ]
    },
    {
     "name": "stdout",
     "output_type": "stream",
     "text": [
      "Could not load session for year: 2022 and race 23 due to Invalid round: 23\n",
      "Could not load session for year: 2023 and race 23 due to Invalid round: 23\n"
     ]
    },
    {
     "name": "stderr",
     "output_type": "stream",
     "text": [
      " 93%|████████████████████████████████████████████████████████████████████████████████████████████▋       | 89/96 [05:22<00:14,  2.05s/it]"
     ]
    },
    {
     "name": "stdout",
     "output_type": "stream",
     "text": [
      "Could not load session for year: 2025 and race 21 due to The data you are trying to access has not been loaded yet. See `Session.load`\n",
      "Could not load session for year: 2022 and race 24 due to Invalid round: 24\n",
      "Could not load session for year: 2023 and race 24 due to Invalid round: 24\n"
     ]
    },
    {
     "name": "stderr",
     "output_type": "stream",
     "text": [
      " 98%|█████████████████████████████████████████████████████████████████████████████████████████████████▉  | 94/96 [05:32<00:04,  2.11s/it]"
     ]
    },
    {
     "name": "stdout",
     "output_type": "stream",
     "text": [
      "Could not load session for year: 2025 and race 22 due to The data you are trying to access has not been loaded yet. See `Session.load`\n"
     ]
    },
    {
     "name": "stderr",
     "output_type": "stream",
     "text": [
      " 99%|██████████████████████████████████████████████████████████████████████████████████████████████████▉ | 95/96 [05:35<00:02,  2.32s/it]"
     ]
    },
    {
     "name": "stdout",
     "output_type": "stream",
     "text": [
      "Could not load session for year: 2025 and race 23 due to The data you are trying to access has not been loaded yet. See `Session.load`\n"
     ]
    },
    {
     "name": "stderr",
     "output_type": "stream",
     "text": [
      "100%|████████████████████████████████████████████████████████████████████████████████████████████████████| 96/96 [05:40<00:00,  3.55s/it]"
     ]
    },
    {
     "name": "stdout",
     "output_type": "stream",
     "text": [
      "Could not load session for year: 2025 and race 24 due to The data you are trying to access has not been loaded yet. See `Session.load`\n",
      "Current Drivers: ['NOR', 'PIA', 'VER', 'RUS', 'TSU', 'ALB', 'LEC', 'HAM', 'SAI', 'GAS', 'HAD', 'ALO', 'DOO', 'STR', 'BOR', 'ANT', 'HUL', 'LAW', 'OCO', 'BEA', 'COL']\n",
      "Circuits: ['Bahrain Grand Prix', 'Australian Grand Prix', 'Chinese Grand Prix', 'Saudi Arabian Grand Prix', 'Japanese Grand Prix', 'Azerbaijan Grand Prix', 'Emilia Romagna Grand Prix', 'Miami Grand Prix', 'Spanish Grand Prix', 'Monaco Grand Prix', 'Canadian Grand Prix', 'Austrian Grand Prix', 'British Grand Prix', 'Hungarian Grand Prix', 'French Grand Prix', 'Belgian Grand Prix', 'Dutch Grand Prix', 'Italian Grand Prix', 'Singapore Grand Prix', 'Qatar Grand Prix', 'United States Grand Prix', 'Mexico City Grand Prix', 'São Paulo Grand Prix', 'Las Vegas Grand Prix', 'Abu Dhabi Grand Prix']\n",
      "Team Mapping: {'Alfa Romeo': 1, 'AlphaTauri': 2, 'Alpine': 3, 'Aston Martin': 4, 'Ferrari': 5, 'Haas F1 Team': 1, 'Kick Sauber': 6, 'McLaren': 7, 'Mercedes': 8, 'RB': 2, 'Racing Bulls': 9, 'Red Bull Racing': 10, 'Williams': 11}\n"
     ]
    },
    {
     "name": "stderr",
     "output_type": "stream",
     "text": [
      "\n"
     ]
    }
   ],
   "source": [
    "import time\n",
    "import fastf1\n",
    "import logging\n",
    "import pandas as pd\n",
    "from tqdm import tqdm\n",
    "import warnings\n",
    "warnings.filterwarnings(\"ignore\")\n",
    "\n",
    "from concurrent.futures import ThreadPoolExecutor, as_completed\n",
    "\n",
    "fastf1.Cache.enable_cache('./.cache')  # replace with your cache directory\n",
    "logging.getLogger('fastf1').setLevel(logging.ERROR)  # This will disable both logs and warnings\n",
    "#fastf1.Cache.offline_mode(True)\n",
    "\n",
    "def get_lap_data(session):\n",
    "    \"\"\"\n",
    "    Get lap data for a given session.\n",
    "    Args:\n",
    "        session (fastf1.core.Session): The session object from FastF1.\n",
    "    Returns:\n",
    "        pd.DataFrame: A DataFrame containing lap data with relevant columns.\n",
    "    \"\"\"\n",
    "    lap = session.laps\n",
    "    lap_prac = lap[(lap['IsAccurate']==True) & (lap['IsPersonalBest']==True)]\n",
    "    lap_prac = lap_prac.groupby('Driver').apply(\n",
    "        lambda x: x[x['LapTime'] == x['LapTime'].min()]).sort_values('LapTime').reset_index(drop=True)[['Driver','Team']]\n",
    "    for col in lap_prac.select_dtypes(include='timedelta64[ns]').columns:\n",
    "        lap_prac[col] = lap_prac[col].dt.total_seconds()\n",
    "    lap_prac.reset_index(inplace=True)\n",
    "    lap_prac.rename(columns={'index':'Position'},inplace=True)\n",
    "    lap_prac['Position'] = lap_prac['Position'] + 1\n",
    "    lap_prac['session'] = session.name\n",
    "    lap_prac['country'] = session.event.EventName\n",
    "    lap_prac['year'] = session.event.year\n",
    "    lap_prac['Date'] = session.event.EventDate\n",
    "    \n",
    "    return lap_prac\n",
    "\n",
    "def fetch_lap_data(year, race, race_type):\n",
    "    try:\n",
    "        session = fastf1.get_session(year, race, race_type)\n",
    "        session.load()\n",
    "        time.sleep(5)  # To avoid overwhelming the server\n",
    "\n",
    "        return get_lap_data(session)\n",
    "    except Exception as e:\n",
    "        print(f\"Could not load session for year: {year} and race {race} due to {e}\")\n",
    "        return None\n",
    "\n",
    "qualifying_sessions = pd.DataFrame([])\n",
    "race_type = 'Q'\n",
    "tasks = [(year, race, race_type) for race in range(1, 25) for year in [2022, 2023, 2024, 2025]]\n",
    "\n",
    "with ThreadPoolExecutor(max_workers=4) as executor:\n",
    "    futures = [executor.submit(fetch_lap_data, year, race, race_type) for year, race, race_type in tasks]\n",
    "    for future in tqdm(as_completed(futures), total=len(futures)):\n",
    "        result = future.result()\n",
    "        if result is not None:\n",
    "            qualifying_sessions = pd.concat([qualifying_sessions, result], ignore_index=True)\n",
    "\n",
    "current_drivers = qualifying_sessions[qualifying_sessions['year']==2025].Driver.unique().tolist()\n",
    "print(f\"Current Drivers: {current_drivers}\")\n",
    "circuits = qualifying_sessions['country'].unique().tolist()\n",
    "print(f\"Circuits: {circuits}\")\n",
    "team_mapping = dict(zip(sorted(qualifying_sessions.Team.value_counts().keys().tolist()),[1,2,3,4,5,1,6,7,8,2,9,10,11]))\n",
    "print(f\"Team Mapping: {team_mapping}\")\n",
    "\n",
    "driver_stats_list = []\n",
    "\n",
    "for i in current_drivers:\n",
    "\n",
    "    driver_sessions = qualifying_sessions[qualifying_sessions['Driver'] == i]\n",
    "    recent_sessions = driver_sessions[driver_sessions['year'] == 2025]\n",
    "    avg_driver_pos = driver_sessions.groupby('country')['Position'].mean().sort_values().to_dict()\n",
    "    team_name = driver_sessions['Team'].values[0]\n",
    "    team_perf = qualifying_sessions[qualifying_sessions['Team'] == team_name].groupby('country')['Position'].mean().sort_values().to_dict()\n",
    "    \n",
    "    try : \n",
    "        lp = int(recent_sessions[recent_sessions['country'] == con]['Position'].iloc[0])\n",
    "    except:\n",
    "        lp = -1\n",
    "    \n",
    "    try:\n",
    "        tf = float(team_perf[con])\n",
    "    except:\n",
    "        tf = -1\n",
    "    \n",
    "    if 'Great Britain' in avg_driver_pos.keys() and 'United Kingdom' in avg_driver_pos.keys():\n",
    "        avg_driver_pos['Great Britain'] = (avg_driver_pos['United Kingdom'] + avg_driver_pos['Great Britain'])/2\n",
    "        avg_driver_pos.pop('United Kingdom')\n",
    "    elif 'United Kingdom' in avg_driver_pos.keys() and  'Great Britain' not in avg_driver_pos.keys():\n",
    "        avg_driver_pos['Great Britain'] = avg_driver_pos['United Kingdom']\n",
    "        avg_driver_pos.pop('United Kingdom')\n",
    "    \n",
    "    for con in avg_driver_pos.keys():\n",
    "        driver_stats_list.append({\n",
    "            'Name': i,\n",
    "            'Avg_Position_Past': float(driver_sessions['Position'].mean()),\n",
    "            'Best_Position_Past': int(driver_sessions['Position'].min()),\n",
    "            'Worst_Position_Past': int(driver_sessions['Position'].max()),\n",
    "            'Best_Position_Recent': int(recent_sessions['Position'].min()),\n",
    "            'Worst_Position_Recent': int(recent_sessions['Position'].max()),\n",
    "            'Avg_Position_Recent': float(recent_sessions['Position'].mean()),\n",
    "            'Last_Position': lp,\n",
    "            'Avg_Finish_in_this_circuit' : float(avg_driver_pos[con]),\n",
    "            'Avg_Team_Finish_in_this_circuit' : tf,\n",
    "            'Country': con,\n",
    "            'Team': team_mapping[team_name]\n",
    "        })\n",
    "\n",
    "pd.DataFrame(driver_stats_list).to_csv('.cache/hist_data/team_driver_performance.csv')\n"
   ]
  }
 ],
 "metadata": {
  "kernelspec": {
   "display_name": "Python 3 (ipykernel)",
   "language": "python",
   "name": "python3"
  },
  "language_info": {
   "codemirror_mode": {
    "name": "ipython",
    "version": 3
   },
   "file_extension": ".py",
   "mimetype": "text/x-python",
   "name": "python",
   "nbconvert_exporter": "python",
   "pygments_lexer": "ipython3",
   "version": "3.12.10"
  }
 },
 "nbformat": 4,
 "nbformat_minor": 5
}
